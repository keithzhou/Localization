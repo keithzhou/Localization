{
 "metadata": {
  "name": "",
  "signature": "sha256:01de2c4f8963ac821d52be8178d9653e1e42499d8a435791c6bfa0ee199fb518"
 },
 "nbformat": 3,
 "nbformat_minor": 0,
 "worksheets": [
  {
   "cells": [
    {
     "cell_type": "code",
     "collapsed": false,
     "input": [
      "import numpy as np\n",
      "import matplotlib.pyplot as plt\n",
      "from scipy.fftpack import rfft, irfft, fftfreq, fft, ifft\n",
      "%matplotlib inline"
     ],
     "language": "python",
     "metadata": {},
     "outputs": [],
     "prompt_number": 2
    },
    {
     "cell_type": "code",
     "collapsed": false,
     "input": [
      "def xcorr_freq(s1,s2):\n",
      "    assert(len(s1)==len(s2))\n",
      "    pad = len(s1) * 2 - 1\n",
      "    lenOld = len(s1)\n",
      "    s1 = np.hstack([s1,np.zeros(pad)])\n",
      "    s2 = np.hstack([s2,np.zeros(pad)])\n",
      "    f_s1 = fft(s1)\n",
      "    f_s2 = fft(s2)\n",
      "    \n",
      "    W = fftfreq(s1.size, 1.0 / SL)\n",
      "    bolla = (abs(W) < 1e3) | (abs(W) > 5e3)\n",
      "    f_s1[bolla] = 0\n",
      "    f_s2[bolla] = 0\n",
      "    \n",
      "    f_s1c = np.conj(f_s1)\n",
      "    f_s2c = np.conj(f_s2)\n",
      "    f_s = f_s1 * f_s2c\n",
      "    denom = np.abs(f_s)\n",
      "    denom[denom < 1e-6] = 1e-6\n",
      "    #f_s = f_s / denom\n",
      "    td = ifft(f_s)\n",
      "    pos = td[:lenOld]\n",
      "    neg = td[-lenOld+1:]\n",
      "    return np.real(np.hstack([neg,pos]))\n",
      "\n",
      "def xcorr(s1,s2):\n",
      "    return np.correlate(s1,s2,'full',old_behavior=False)\n",
      "\n",
      "def bandpass_filtering(signal,fs,f_low,f_heigh):\n",
      "    W = fftfreq(signal.size, 1.0 / fs)\n",
      "    f_signal = rfft(signal)\n",
      "    bolla = (abs(W) < f_low) | (abs(W) > f_heigh)\n",
      "    f_signal[bolla] = 0.0\n",
      "    return irfft(f_signal)"
     ],
     "language": "python",
     "metadata": {},
     "outputs": [],
     "prompt_number": 29
    },
    {
     "cell_type": "code",
     "collapsed": false,
     "input": [
      "LENG = 50\n",
      "SL = 1e5\n",
      "a = np.array(np.random.rand(LENG))\n",
      "b = np.array(np.random.rand(LENG))\n",
      "result1 = xcorr_freq(a,b)\n",
      "result2 = xcorr(a,b)\n",
      "#assert(np.all(np.isclose(result1,result2)))\n",
      "af = bandpass_filtering(a,SL,1e3,5e3)\n",
      "bf = bandpass_filtering(b,SL,1e3,5e3)\n",
      "result1 = xcorr_freq(a,b)\n",
      "result2 = xcorr(af,bf)\n",
      "print result1, result2\n",
      "assert(np.all(np.isclose(result1,result2)))\n",
      "\n",
      "plt.plot(xcorr_freq(a,b))\n",
      "plt.figure()\n",
      "plt.plot(xcorr(a,b))"
     ],
     "language": "python",
     "metadata": {},
     "outputs": [
      {
       "output_type": "stream",
       "stream": "stdout",
       "text": [
        "[-0.87814638 -0.91907568 -0.9486031  -0.96879408 -0.98159088 -0.98867174\n",
        " -0.99135695 -0.99056819 -0.98684184 -0.98039123 -0.97120815 -0.95918943\n",
        " -0.94427246 -0.92656183 -0.90643083 -0.88458338 -0.86206633 -0.8402271\n",
        " -0.82061703 -0.80484708 -0.79440754 -0.79046809 -0.79367748 -0.80398346\n",
        " -0.82049313 -0.8413914  -0.86393112 -0.88450272 -0.89878507 -0.90197189\n",
        " -0.88906148 -0.85519154 -0.79599619 -0.70795897 -0.5887352  -0.43741772\n",
        " -0.25472364 -0.04308492  0.19336797  0.44893215  0.71656314  0.98819746\n",
        "  1.25514739  1.50854244  1.73978885  1.94101678  2.1054859   2.22792275\n",
        "  2.30476888  2.33432481  2.31678273  2.25414894  2.15006465  2.00954096\n",
        "  1.83862932  1.64405271  1.43282436  1.21188073  0.98775269  0.76629489\n",
        "  0.5524874   0.3503172   0.16274028 -0.00828164 -0.1616814  -0.29714\n",
        " -0.41491243 -0.51564579 -0.60020879 -0.66954908 -0.72459069 -0.7661789\n",
        " -0.79507395 -0.8119895  -0.81766675 -0.81297066 -0.79899275 -0.77714323\n",
        " -0.74921672 -0.71741781 -0.68433696 -0.65287226 -0.6260981  -0.60708785\n",
        " -0.59870278 -0.60336379 -0.62282562 -0.65797423 -0.70866755 -0.77363718\n",
        " -0.85046441 -0.9356382  -1.02469665 -1.11244602 -1.19324518 -1.26133732\n",
        " -1.31120619 -1.33793146 -1.3375169 ] [ -6.09787296e-04   7.59130278e-03  -2.76825108e-03   1.24834759e-02\n",
        "  -7.30098133e-03   1.38032790e-02  -1.47303175e-02   1.10944570e-02\n",
        "  -2.52109470e-02   4.38554738e-03  -3.84968154e-02  -5.78733042e-03\n",
        "  -5.39463508e-02  -1.84056791e-02  -7.05663160e-02  -3.20407710e-02\n",
        "  -8.70913115e-02  -4.49676926e-02  -1.02092859e-01  -5.53125970e-02\n",
        "  -1.14109355e-01  -6.12214672e-02  -1.21786199e-01  -6.10365816e-02\n",
        "  -1.24014264e-01  -5.34658261e-02  -1.20054648e-01  -3.77301191e-02\n",
        "  -1.09638415e-01  -1.36755251e-02  -9.30317074e-02   1.81609560e-02\n",
        "  -7.10591044e-02   5.65395846e-02  -4.50812447e-02   9.95636642e-02\n",
        "  -1.69262699e-02   1.44782055e-01   1.12216693e-02   1.89343019e-01\n",
        "   3.69700510e-02   2.30189750e-01   5.78918320e-02   2.64284262e-01\n",
        "   7.17131108e-02   2.88843583e-01   7.65006006e-02   3.01570556e-01\n",
        "   7.08343315e-02   3.00861236e-01   5.51710866e-02   2.70789283e-01\n",
        "   3.13855788e-02   2.32163982e-01   1.93700660e-03   1.87978151e-01\n",
        "  -3.05171202e-02   1.41381474e-01  -6.33160897e-02   9.54434607e-02\n",
        "  -9.39865398e-02   5.29359902e-02  -1.20408105e-01   1.61506658e-02\n",
        "  -1.40943108e-01  -1.32370258e-02  -1.54522365e-01  -3.42487183e-02\n",
        "  -1.60682792e-01  -4.66257707e-02  -1.59556309e-01  -5.07944960e-02\n",
        "  -1.51813257e-01  -4.77794033e-02  -1.38566923e-01  -3.90736730e-02\n",
        "  -1.21248527e-01  -2.64790984e-02  -1.01463981e-01  -1.19297107e-02\n",
        "  -8.08447676e-02   2.68585990e-03  -6.09053508e-02   1.56885998e-02\n",
        "  -4.29185775e-02   2.57467251e-02  -2.78187657e-02   3.19760257e-02\n",
        "  -1.61396220e-02   3.39955911e-02  -7.99110653e-03   3.19354023e-02\n",
        "  -3.07604291e-03   2.63963438e-02  -7.43953586e-04   1.83671438e-02\n",
        "  -7.65272121e-05   9.10631107e-03   3.45356818e-06]\n"
       ]
      },
      {
       "ename": "AssertionError",
       "evalue": "",
       "output_type": "pyerr",
       "traceback": [
        "\u001b[0;31m---------------------------------------------------------------------------\u001b[0m\n\u001b[0;31mAssertionError\u001b[0m                            Traceback (most recent call last)",
        "\u001b[0;32m<ipython-input-32-70f586dc5e3b>\u001b[0m in \u001b[0;36m<module>\u001b[0;34m()\u001b[0m\n\u001b[1;32m     11\u001b[0m \u001b[0mresult2\u001b[0m \u001b[0;34m=\u001b[0m \u001b[0mxcorr\u001b[0m\u001b[0;34m(\u001b[0m\u001b[0maf\u001b[0m\u001b[0;34m,\u001b[0m\u001b[0mbf\u001b[0m\u001b[0;34m)\u001b[0m\u001b[0;34m\u001b[0m\u001b[0m\n\u001b[1;32m     12\u001b[0m \u001b[0;32mprint\u001b[0m \u001b[0mresult1\u001b[0m\u001b[0;34m,\u001b[0m \u001b[0mresult2\u001b[0m\u001b[0;34m\u001b[0m\u001b[0m\n\u001b[0;32m---> 13\u001b[0;31m \u001b[0;32massert\u001b[0m\u001b[0;34m(\u001b[0m\u001b[0mnp\u001b[0m\u001b[0;34m.\u001b[0m\u001b[0mall\u001b[0m\u001b[0;34m(\u001b[0m\u001b[0mnp\u001b[0m\u001b[0;34m.\u001b[0m\u001b[0misclose\u001b[0m\u001b[0;34m(\u001b[0m\u001b[0mresult1\u001b[0m\u001b[0;34m,\u001b[0m\u001b[0mresult2\u001b[0m\u001b[0;34m)\u001b[0m\u001b[0;34m)\u001b[0m\u001b[0;34m)\u001b[0m\u001b[0;34m\u001b[0m\u001b[0m\n\u001b[0m\u001b[1;32m     14\u001b[0m \u001b[0;34m\u001b[0m\u001b[0m\n\u001b[1;32m     15\u001b[0m \u001b[0mplt\u001b[0m\u001b[0;34m.\u001b[0m\u001b[0mplot\u001b[0m\u001b[0;34m(\u001b[0m\u001b[0mxcorr_freq\u001b[0m\u001b[0;34m(\u001b[0m\u001b[0ma\u001b[0m\u001b[0;34m,\u001b[0m\u001b[0mb\u001b[0m\u001b[0;34m)\u001b[0m\u001b[0;34m)\u001b[0m\u001b[0;34m\u001b[0m\u001b[0m\n",
        "\u001b[0;31mAssertionError\u001b[0m: "
       ]
      }
     ],
     "prompt_number": 32
    },
    {
     "cell_type": "code",
     "collapsed": false,
     "input": [
      "sigT = np.random.rand(10)\n",
      "rfft(sigT)"
     ],
     "language": "python",
     "metadata": {},
     "outputs": [
      {
       "metadata": {},
       "output_type": "pyout",
       "prompt_number": 246,
       "text": [
        "array([ 5.4480603 ,  0.12905825,  0.21165913,  0.26516487, -0.04384646,\n",
        "        1.27028509, -1.7963448 , -0.23978618,  0.0500655 , -0.05605353])"
       ]
      }
     ],
     "prompt_number": 246
    },
    {
     "cell_type": "code",
     "collapsed": false,
     "input": [
      "a[0:lag]"
     ],
     "language": "python",
     "metadata": {},
     "outputs": [
      {
       "ename": "NameError",
       "evalue": "name 'lag' is not defined",
       "output_type": "pyerr",
       "traceback": [
        "\u001b[0;31m---------------------------------------------------------------------------\u001b[0m\n\u001b[0;31mNameError\u001b[0m                                 Traceback (most recent call last)",
        "\u001b[0;32m<ipython-input-263-cef5b5bc9844>\u001b[0m in \u001b[0;36m<module>\u001b[0;34m()\u001b[0m\n\u001b[0;32m----> 1\u001b[0;31m \u001b[0ma\u001b[0m\u001b[0;34m[\u001b[0m\u001b[0;36m0\u001b[0m\u001b[0;34m:\u001b[0m\u001b[0mlag\u001b[0m\u001b[0;34m]\u001b[0m\u001b[0;34m\u001b[0m\u001b[0m\n\u001b[0m",
        "\u001b[0;31mNameError\u001b[0m: name 'lag' is not defined"
       ]
      }
     ],
     "prompt_number": 263
    },
    {
     "cell_type": "code",
     "collapsed": false,
     "input": [
      "(sig1,sig2,sig3,sig4) = np.load('output_raw.npy').astype(np.float)"
     ],
     "language": "python",
     "metadata": {},
     "outputs": [],
     "prompt_number": 82
    },
    {
     "cell_type": "code",
     "collapsed": false,
     "input": [
      "sig1 = sig1 - np.mean(sig1)\n",
      "sig1 = sig1 / np.std(sig1)\n",
      "sig2 = sig2 - np.mean(sig2)\n",
      "sig2 = sig2 / np.std(sig2)"
     ],
     "language": "python",
     "metadata": {},
     "outputs": [],
     "prompt_number": 299
    },
    {
     "cell_type": "code",
     "collapsed": false,
     "input": [
      "sig1 = sig1 - np.mean(sig1)\n",
      "\n",
      "ffs = fftfreq(len(sig1),1.0/(1.0/(15e-6)))\n",
      "sss = fft(sig1)\n",
      "bins = abs(ffs) < 9e3\n",
      "plt.plot(ffs[bins],sss[bins])"
     ],
     "language": "python",
     "metadata": {},
     "outputs": [
      {
       "metadata": {},
       "output_type": "pyout",
       "prompt_number": 99,
       "text": [
        "[<matplotlib.lines.Line2D at 0x11b7601d0>]"
       ]
      },
      {
       "metadata": {},
       "output_type": "display_data",
       "png": "[encoded data removed]",
       "text": [
        "<matplotlib.figure.Figure at 0x11b735650>"
       ]
      }
     ],
     "prompt_number": 99
    },
    {
     "cell_type": "code",
     "collapsed": false,
     "input": [
      "plt.plot(sig1)"
     ],
     "language": "python",
     "metadata": {},
     "outputs": [
      {
       "metadata": {},
       "output_type": "pyout",
       "prompt_number": 85,
       "text": [
        "[<matplotlib.lines.Line2D at 0x110281890>]"
       ]
      },
      {
       "metadata": {},
       "output_type": "display_data",
       "png": "[encoded data removed]",
       "text": [
        "<matplotlib.figure.Figure at 0x10d8f2150>"
       ]
      }
     ],
     "prompt_number": 85
    },
    {
     "cell_type": "code",
     "collapsed": false,
     "input": [
      "SR = 1000\n",
      "ss1 = np.linspace(0,10,10 * SR)\n",
      "ss2 = np.sin(2*np.pi*300*ss1)\n",
      "plt.plot(fftfreq(len(ss2),1.0/SR),np.abs(fft(ss2)))\n",
      "pad = len(ss2) * 2 - 1\n",
      "ss3 = np.hstack([ss2,np.zeros(pad)])\n",
      "plt.figure()\n",
      "plt.plot(fftfreq(len(ss3),1.0/SR),np.abs(fft(ss3)))"
     ],
     "language": "python",
     "metadata": {},
     "outputs": [
      {
       "metadata": {},
       "output_type": "pyout",
       "prompt_number": 67,
       "text": [
        "[<matplotlib.lines.Line2D at 0x10e93f590>]"
       ]
      },
      {
       "metadata": {},
       "output_type": "display_data",
       "png": "[encoded data removed]",
       "text": [
        "<matplotlib.figure.Figure at 0x10e8a9b90>"
       ]
      },
      {
       "metadata": {},
       "output_type": "display_data",
       "png": "[encoded data removed]",
       "text": [
        "<matplotlib.figure.Figure at 0x10e8a9e90>"
       ]
      }
     ],
     "prompt_number": 67
    },
    {
     "cell_type": "code",
     "collapsed": false,
     "input": [
      "np.max(fftfreq(len(ss2),1.0/SR))"
     ],
     "language": "python",
     "metadata": {},
     "outputs": [
      {
       "metadata": {},
       "output_type": "pyout",
       "prompt_number": 73,
       "text": [
        "499.90000000000003"
       ]
      }
     ],
     "prompt_number": 73
    },
    {
     "cell_type": "code",
     "collapsed": false,
     "input": [
      "np.any(np.isnan([3,2,5,np.nan,3]))"
     ],
     "language": "python",
     "metadata": {},
     "outputs": [
      {
       "metadata": {},
       "output_type": "pyout",
       "prompt_number": 81,
       "text": [
        "True"
       ]
      }
     ],
     "prompt_number": 81
    },
    {
     "cell_type": "code",
     "collapsed": false,
     "input": [],
     "language": "python",
     "metadata": {},
     "outputs": []
    }
   ],
   "metadata": {}
  }
 ]
}