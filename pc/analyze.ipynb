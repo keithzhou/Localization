{
 "metadata": {
  "name": "",
  "signature": "sha256:67570e50e5fdaa5609ff5705920a673a01dc7267fccd15c62b5f5bb991b613d6"
 },
 "nbformat": 3,
 "nbformat_minor": 0,
 "worksheets": [
  {
   "cells": [
    {
     "cell_type": "code",
     "collapsed": false,
     "input": [
      "import numpy as np\n",
      "import matplotlib.pyplot as plt\n",
      "%matplotlib inline\n",
      "from scipy.fftpack import rfft, irfft, fftfreq\n",
      "import os.path, time\n",
      "import sys\n",
      "from IPython.core.display import clear_output\n",
      "import zmq\n",
      "import pickle\n",
      "from pylab import cm\n",
      "import config"
     ],
     "language": "python",
     "metadata": {},
     "outputs": [],
     "prompt_number": 1
    },
    {
     "cell_type": "code",
     "collapsed": false,
     "input": [
      "#constants\n",
      "f = pickle.load(open('pcAnalysis/data/rr_40_45.p','rb'))\n",
      "wave = f[0][0]\n",
      "freq = f[1][0]\n",
      "print len(wave), freq\n",
      "xcorr_result = np.correlate(wave[:,1],wave[:,2],'full')\n",
      "am = np.argmax(xcorr_result)\n",
      "plt.plot(xcorr_result[am-30:am+30])"
     ],
     "language": "python",
     "metadata": {},
     "outputs": []
    },
    {
     "cell_type": "code",
     "collapsed": false,
     "input": [
      "def xcorr(sig1, sig2):\n",
      "    output = np.correlate(sig1,sig2,'full')\n",
      "    return np.argmax(output) - (len(sig2) - 1)\n",
      "\n",
      "def plot_fft(signal,fs):\n",
      "    fig = plt.figure(num=None, figsize=(10, 1.5), dpi=80, facecolor='w', edgecolor='k')\n",
      "    W = fftfreq(signal.size, 1.0 / fs)\n",
      "    f_signal = rfft(signal)\n",
      "    bolla = (W >= 0) & (W < 10e3)\n",
      "    ax1 = fig.add_subplot(121)\n",
      "    ax1.plot(signal)\n",
      "    ax2 = fig.add_subplot(122)\n",
      "    ax2.plot(W[bolla],f_signal[bolla])\n",
      "    plt.show()\n",
      "\n",
      "def bandpass_filtering(signal,fs,f_low,f_heigh):\n",
      "    W = fftfreq(signal.size, 1.0 / fs)\n",
      "    f_signal = rfft(signal)\n",
      "    bolla = (abs(W) < f_low) | (abs(W) > f_heigh)\n",
      "    f_signal[bolla] = 0.0\n",
      "    return irfft(f_signal)\n",
      "\n",
      "def doWork():\n",
      "    waveform = np.load(FILENAME)\n",
      "    ch1 = waveform[0]\n",
      "    ch2 = waveform[1]\n",
      "    xcorrLag = xcorr(ch1, ch2)\n",
      "    print \"lag:%d\" % (xcorrLag,)\n",
      "    ch1 -= np.mean(ch1)\n",
      "    ch2 -= np.mean(ch2)\n",
      "    plot_fft(ch1,SAMPLING_RATE)\n",
      "    plot_fft(ch2,SAMPLING_RATE)\n",
      "    ch1_f = bandpass_filtering(ch1,SAMPLING_RATE,0.2e3,50e3)\n",
      "    ch2_f = bandpass_filtering(ch2,SAMPLING_RATE,0.2e3,50e3)\n",
      "    xcorrLag = xcorr(ch1_f, ch2_f)\n",
      "    print \"lag:%d\" % (xcorrLag,)\n",
      "    plot_fft(ch1_f,SAMPLING_RATE)\n",
      "    plot_fft(ch2_f,SAMPLING_RATE)"
     ],
     "language": "python",
     "metadata": {},
     "outputs": []
    },
    {
     "cell_type": "code",
     "collapsed": false,
     "input": [
      "lastModified = 0\n",
      "\n",
      "while 1:\n",
      "    tmp = os.path.getmtime(FILENAME)\n",
      "    if tmp > lastModified:\n",
      "        clear_output()\n",
      "        print \"%d -> %d\" % (lastModified, tmp)\n",
      "        doWork()\n",
      "        lastModified = tmp\n",
      "        sys.stdout.flush()\n",
      "    time.sleep(1.0)\n"
     ],
     "language": "python",
     "metadata": {},
     "outputs": []
    },
    {
     "cell_type": "code",
     "collapsed": false,
     "input": [
      "time   = np.linspace(0,10,2000)\n",
      "signal = np.cos(20*np.pi*time) + np.cos(40*np.pi*time)\n",
      "\n",
      "sss = bandpass_filtering(signal,200,1,30)\n",
      "plot_fft(sss,200)"
     ],
     "language": "python",
     "metadata": {},
     "outputs": []
    },
    {
     "cell_type": "code",
     "collapsed": false,
     "input": [],
     "language": "python",
     "metadata": {},
     "outputs": []
    },
    {
     "cell_type": "code",
     "collapsed": false,
     "input": [
      "6000.0 * np.log(6000)"
     ],
     "language": "python",
     "metadata": {},
     "outputs": []
    },
    {
     "cell_type": "code",
     "collapsed": false,
     "input": [
      "6000.0 * 60 / (6000.0 * np.log(6000))"
     ],
     "language": "python",
     "metadata": {},
     "outputs": []
    },
    {
     "cell_type": "code",
     "collapsed": false,
     "input": [
      "33 / 5.31"
     ],
     "language": "python",
     "metadata": {},
     "outputs": []
    },
    {
     "cell_type": "code",
     "collapsed": false,
     "input": [
      "10 * 1024 * 8 /60.0 / 60.0 / 1.25"
     ],
     "language": "python",
     "metadata": {},
     "outputs": [
      {
       "metadata": {},
       "output_type": "pyout",
       "prompt_number": 2,
       "text": [
        "18.20444444444444"
       ]
      }
     ],
     "prompt_number": 2
    },
    {
     "cell_type": "code",
     "collapsed": false,
     "input": [
      "xs = np.linspace(-1,1,2000)\n",
      "ys = np.linspace(-1,1,2000)\n",
      "(xx, yy) = np.meshgrid(xs,ys)\n",
      "\n",
      "d1 = np.sqrt((xx - mic1[0]) ** 2 + (yy-mic1[1]) ** 2)\n",
      "d2 = np.sqrt((xx - mic2[0]) ** 2 + (yy-mic2[1]) ** 2)\n",
      "d3 = np.sqrt((xx - mic3[0]) ** 2 + (yy-mic3[1]) ** 2)\n",
      "\n",
      "#-0.175941340623 -0.0612151285611 0.114726212062\n",
      "#-0.20666690089 -0.0592126466076 0.147454254283\n",
      "#-0.209504857119 -0.0576729939505 0.151831863168\n",
      "#-0.144099328014 -0.229622726557 -0.085523398543\n",
      "fig, ax = plt.subplots()\n",
      "ddd12 = np.where(abs(d1 - d2 - ( 0)) < 0.01,1,0)\n",
      "ddd13 = np.where(abs(d1 - d3 - (-0.229622726557)) < 0.01,1,0)\n",
      "ddd23 = np.where(abs(d2 - d3 - (  -0.085523398543)) < 0.01,1,0)\n",
      "ddd = ddd12 + ddd23 #ddd13 + ddd23 # + ddd23  + ddd13 #+ ddd23\n",
      "quad = ax.pcolormesh(xx, yy, ddd, cmap=cm.RdBu, vmin=np.min(ddd), vmax=np.max(ddd))\n",
      "cb = fig.colorbar(quad, ax=ax)\n",
      "dot, = ax.plot(0.41298635729492383, 0.19410127028069815,'ro',markersize=10)\n",
      "dot, = ax.plot( 0.8720257, 0.38292595 ,'yo',markersize=10)\n",
      "dot, = ax.plot( mic1[0],   mic1[1],'go',markersize=3)\n",
      "#dot, = ax.plot( mic2[0],   mic2[1],'go',markersize=3)\n",
      "#dot, = ax.plot( mic3[0],   mic3[1],'go',markersize=3)\n",
      "\n",
      "plt.ion()\n",
      "plt.show()"
     ],
     "language": "python",
     "metadata": {},
     "outputs": [
      {
       "metadata": {},
       "output_type": "display_data",
       "png": "[encoded data removed]",
       "text": [
        "<matplotlib.figure.Figure at 0x1035a0750>"
       ]
      }
     ],
     "prompt_number": 515
    },
    {
     "cell_type": "code",
     "collapsed": false,
     "input": [
      "distance = lambda p1,p2: sum((x-y) ** 2 for x,y in zip(p1,p2)) ** 0.5\n",
      "\n",
      "class sim():\n",
      "    def __init__(self,mics, res = 2000, sampling_resolution = 0.01):\n",
      "        self.sampling_resolution = sampling_resolution\n",
      "        self.mics = mics\n",
      "        self.xs = np.linspace(-1,1,res)\n",
      "        self.ys = np.linspace(-1,1,res)\n",
      "        (self.xx, self.yy) = np.meshgrid(self.xs,self.ys)\n",
      "\n",
      "        dis = [((self.xx - x) ** 2 + (self.yy - y) **2)**0.5 for x,y in mics]\n",
      "        self.dis_diffs = self.calculate_diffs(dis)\n",
      "        \n",
      "    def calculate_diffs(self,dis):\n",
      "        result = []\n",
      "        for i in range(len(dis)):\n",
      "            for j in range(i+1,len(dis)):\n",
      "                result.append(dis[i] - dis[j])\n",
      "        return result\n",
      "    \n",
      "    def candidates(self,pt):\n",
      "        dis = [distance(pt,m) for m in self.mics]\n",
      "        diffs = self.calculate_diffs(dis)\n",
      "        return reduce(np.logical_and,(abs(a - b) < self.sampling_resolution for a,b in zip(self.dis_diffs,diffs)))\n",
      "    \n",
      "    def evaluate(self,pts):\n",
      "        results = []\n",
      "        for pt in pts:\n",
      "            cand = self.candidates(pt)\n",
      "            loc = np.mean([(self.xs[x],self.ys[y]) for x, y in zip(*np.nonzero(cand))],axis=0)\n",
      "            num_cand = np.sum(cand)\n",
      "            results.append((loc,num_cand))\n",
      "        return results"
     ],
     "language": "python",
     "metadata": {},
     "outputs": [],
     "prompt_number": 2
    },
    {
     "cell_type": "code",
     "collapsed": false,
     "input": [
      "mic1 = ( 0.137,   0.0)\n",
      "mic2 = (-0.06,  0.10392)\n",
      "mic3 = (-0.06, -0.11864)\n",
      "sut_real = sim((mic1,mic2,mic3))"
     ],
     "language": "python",
     "metadata": {},
     "outputs": [],
     "prompt_number": 3
    },
    {
     "cell_type": "code",
     "collapsed": false,
     "input": [
      "ax = plt.subplot()\n",
      "data = sut_real.evaluate(((0.14,-0.14),))[0]\n",
      "quad = ax.pcolormesh(sut_real.xx, sut_real.yy,data , cmap=cm.RdBu, vmin=np.min(data), vmax=np.max(data))\n",
      "cb = fig.colorbar(quad, ax=ax)"
     ],
     "language": "python",
     "metadata": {},
     "outputs": [
      {
       "ename": "ValueError",
       "evalue": "The truth value of an array with more than one element is ambiguous. Use a.any() or a.all()",
       "output_type": "pyerr",
       "traceback": [
        "\u001b[0;31m---------------------------------------------------------------------------\u001b[0m\n\u001b[0;31mValueError\u001b[0m                                Traceback (most recent call last)",
        "\u001b[0;32m<ipython-input-629-a593bd5526e7>\u001b[0m in \u001b[0;36m<module>\u001b[0;34m()\u001b[0m\n\u001b[1;32m      1\u001b[0m \u001b[0max\u001b[0m \u001b[0;34m=\u001b[0m \u001b[0mplt\u001b[0m\u001b[0;34m.\u001b[0m\u001b[0msubplot\u001b[0m\u001b[0;34m(\u001b[0m\u001b[0;34m)\u001b[0m\u001b[0;34m\u001b[0m\u001b[0m\n\u001b[1;32m      2\u001b[0m \u001b[0mdata\u001b[0m \u001b[0;34m=\u001b[0m \u001b[0msut_real\u001b[0m\u001b[0;34m.\u001b[0m\u001b[0mevaluate\u001b[0m\u001b[0;34m(\u001b[0m\u001b[0;34m(\u001b[0m\u001b[0;34m(\u001b[0m\u001b[0;36m0.14\u001b[0m\u001b[0;34m,\u001b[0m\u001b[0;34m-\u001b[0m\u001b[0;36m0.14\u001b[0m\u001b[0;34m)\u001b[0m\u001b[0;34m,\u001b[0m\u001b[0;34m)\u001b[0m\u001b[0;34m)\u001b[0m\u001b[0;34m[\u001b[0m\u001b[0;36m0\u001b[0m\u001b[0;34m]\u001b[0m\u001b[0;34m\u001b[0m\u001b[0m\n\u001b[0;32m----> 3\u001b[0;31m \u001b[0mquad\u001b[0m \u001b[0;34m=\u001b[0m \u001b[0max\u001b[0m\u001b[0;34m.\u001b[0m\u001b[0mpcolormesh\u001b[0m\u001b[0;34m(\u001b[0m\u001b[0msut_real\u001b[0m\u001b[0;34m.\u001b[0m\u001b[0mxx\u001b[0m\u001b[0;34m,\u001b[0m \u001b[0msut_real\u001b[0m\u001b[0;34m.\u001b[0m\u001b[0myy\u001b[0m\u001b[0;34m,\u001b[0m\u001b[0mdata\u001b[0m \u001b[0;34m,\u001b[0m \u001b[0mcmap\u001b[0m\u001b[0;34m=\u001b[0m\u001b[0mcm\u001b[0m\u001b[0;34m.\u001b[0m\u001b[0mRdBu\u001b[0m\u001b[0;34m,\u001b[0m \u001b[0mvmin\u001b[0m\u001b[0;34m=\u001b[0m\u001b[0mnp\u001b[0m\u001b[0;34m.\u001b[0m\u001b[0mmin\u001b[0m\u001b[0;34m(\u001b[0m\u001b[0mdata\u001b[0m\u001b[0;34m)\u001b[0m\u001b[0;34m,\u001b[0m \u001b[0mvmax\u001b[0m\u001b[0;34m=\u001b[0m\u001b[0mnp\u001b[0m\u001b[0;34m.\u001b[0m\u001b[0mmax\u001b[0m\u001b[0;34m(\u001b[0m\u001b[0mdata\u001b[0m\u001b[0;34m)\u001b[0m\u001b[0;34m)\u001b[0m\u001b[0;34m\u001b[0m\u001b[0m\n\u001b[0m\u001b[1;32m      4\u001b[0m \u001b[0mcb\u001b[0m \u001b[0;34m=\u001b[0m \u001b[0mfig\u001b[0m\u001b[0;34m.\u001b[0m\u001b[0mcolorbar\u001b[0m\u001b[0;34m(\u001b[0m\u001b[0mquad\u001b[0m\u001b[0;34m,\u001b[0m \u001b[0max\u001b[0m\u001b[0;34m=\u001b[0m\u001b[0max\u001b[0m\u001b[0;34m)\u001b[0m\u001b[0;34m\u001b[0m\u001b[0m\n",
        "\u001b[0;32m/Users/keith/Library/Enthought/Canopy_64bit/User/lib/python2.7/site-packages/numpy/core/fromnumeric.pyc\u001b[0m in \u001b[0;36mamin\u001b[0;34m(a, axis, out, keepdims)\u001b[0m\n\u001b[1;32m   2207\u001b[0m         \u001b[0;32mexcept\u001b[0m \u001b[0mAttributeError\u001b[0m\u001b[0;34m:\u001b[0m\u001b[0;34m\u001b[0m\u001b[0m\n\u001b[1;32m   2208\u001b[0m             return _methods._amin(a, axis=axis,\n\u001b[0;32m-> 2209\u001b[0;31m                                 out=out, keepdims=keepdims)\n\u001b[0m\u001b[1;32m   2210\u001b[0m         \u001b[0;31m# NOTE: Dropping the keepdims parameter\u001b[0m\u001b[0;34m\u001b[0m\u001b[0;34m\u001b[0m\u001b[0m\n\u001b[1;32m   2211\u001b[0m         \u001b[0;32mreturn\u001b[0m \u001b[0mamin\u001b[0m\u001b[0;34m(\u001b[0m\u001b[0maxis\u001b[0m\u001b[0;34m=\u001b[0m\u001b[0maxis\u001b[0m\u001b[0;34m,\u001b[0m \u001b[0mout\u001b[0m\u001b[0;34m=\u001b[0m\u001b[0mout\u001b[0m\u001b[0;34m)\u001b[0m\u001b[0;34m\u001b[0m\u001b[0m\n",
        "\u001b[0;32m/Users/keith/Library/Enthought/Canopy_64bit/User/lib/python2.7/site-packages/numpy/core/_methods.pyc\u001b[0m in \u001b[0;36m_amin\u001b[0;34m(a, axis, out, keepdims)\u001b[0m\n\u001b[1;32m     19\u001b[0m \u001b[0;32mdef\u001b[0m \u001b[0m_amin\u001b[0m\u001b[0;34m(\u001b[0m\u001b[0ma\u001b[0m\u001b[0;34m,\u001b[0m \u001b[0maxis\u001b[0m\u001b[0;34m=\u001b[0m\u001b[0mNone\u001b[0m\u001b[0;34m,\u001b[0m \u001b[0mout\u001b[0m\u001b[0;34m=\u001b[0m\u001b[0mNone\u001b[0m\u001b[0;34m,\u001b[0m \u001b[0mkeepdims\u001b[0m\u001b[0;34m=\u001b[0m\u001b[0mFalse\u001b[0m\u001b[0;34m)\u001b[0m\u001b[0;34m:\u001b[0m\u001b[0;34m\u001b[0m\u001b[0m\n\u001b[1;32m     20\u001b[0m     return um.minimum.reduce(a, axis=axis,\n\u001b[0;32m---> 21\u001b[0;31m                             out=out, keepdims=keepdims)\n\u001b[0m\u001b[1;32m     22\u001b[0m \u001b[0;34m\u001b[0m\u001b[0m\n\u001b[1;32m     23\u001b[0m \u001b[0;32mdef\u001b[0m \u001b[0m_sum\u001b[0m\u001b[0;34m(\u001b[0m\u001b[0ma\u001b[0m\u001b[0;34m,\u001b[0m \u001b[0maxis\u001b[0m\u001b[0;34m=\u001b[0m\u001b[0mNone\u001b[0m\u001b[0;34m,\u001b[0m \u001b[0mdtype\u001b[0m\u001b[0;34m=\u001b[0m\u001b[0mNone\u001b[0m\u001b[0;34m,\u001b[0m \u001b[0mout\u001b[0m\u001b[0;34m=\u001b[0m\u001b[0mNone\u001b[0m\u001b[0;34m,\u001b[0m \u001b[0mkeepdims\u001b[0m\u001b[0;34m=\u001b[0m\u001b[0mFalse\u001b[0m\u001b[0;34m)\u001b[0m\u001b[0;34m:\u001b[0m\u001b[0;34m\u001b[0m\u001b[0m\n",
        "\u001b[0;31mValueError\u001b[0m: The truth value of an array with more than one element is ambiguous. Use a.any() or a.all()"
       ]
      },
      {
       "metadata": {},
       "output_type": "display_data",
       "png": "[encoded data removed]",
       "text": [
        "<matplotlib.figure.Figure at 0x10bf20850>"
       ]
      }
     ],
     "prompt_number": 629
    },
    {
     "cell_type": "code",
     "collapsed": false,
     "input": [
      "space = np.linspace(-1,1,200)\n",
      "pts = ((x,-y) for y in space for x in space)"
     ],
     "language": "python",
     "metadata": {},
     "outputs": [],
     "prompt_number": 28
    },
    {
     "cell_type": "code",
     "collapsed": false,
     "input": [
      "cu = time.time()\n",
      "results=sut_real.evaluate(pts)\n",
      "print time.time() - cu"
     ],
     "language": "python",
     "metadata": {},
     "outputs": []
    },
    {
     "cell_type": "code",
     "collapsed": false,
     "input": [
      "list(pts)[:3]"
     ],
     "language": "python",
     "metadata": {},
     "outputs": [
      {
       "metadata": {},
       "output_type": "pyout",
       "prompt_number": 27,
       "text": [
        "[]"
       ]
      }
     ],
     "prompt_number": 27
    },
    {
     "cell_type": "code",
     "collapsed": false,
     "input": [],
     "language": "python",
     "metadata": {},
     "outputs": []
    },
    {
     "cell_type": "code",
     "collapsed": false,
     "input": [
      "a = 3"
     ],
     "language": "python",
     "metadata": {},
     "outputs": []
    },
    {
     "cell_type": "code",
     "collapsed": false,
     "input": [],
     "language": "python",
     "metadata": {},
     "outputs": []
    },
    {
     "cell_type": "code",
     "collapsed": false,
     "input": [],
     "language": "python",
     "metadata": {},
     "outputs": [
      {
       "metadata": {},
       "output_type": "pyout",
       "prompt_number": 552,
       "text": [
        "2"
       ]
      }
     ],
     "prompt_number": 552
    },
    {
     "cell_type": "code",
     "collapsed": false,
     "input": [],
     "language": "python",
     "metadata": {},
     "outputs": [],
     "prompt_number": 85
    },
    {
     "cell_type": "code",
     "collapsed": false,
     "input": [],
     "language": "python",
     "metadata": {},
     "outputs": [],
     "prompt_number": 98
    },
    {
     "cell_type": "code",
     "collapsed": false,
     "input": [],
     "language": "python",
     "metadata": {},
     "outputs": [],
     "prompt_number": 595
    },
    {
     "cell_type": "code",
     "collapsed": false,
     "input": [],
     "language": "python",
     "metadata": {},
     "outputs": [],
     "prompt_number": 594
    },
    {
     "cell_type": "code",
     "collapsed": false,
     "input": [],
     "language": "python",
     "metadata": {},
     "outputs": [
      {
       "metadata": {},
       "output_type": "pyout",
       "prompt_number": 604,
       "text": [
        "array([[ True, False, False],\n",
        "       [False,  True, False]], dtype=bool)"
       ]
      }
     ],
     "prompt_number": 604
    },
    {
     "cell_type": "code",
     "collapsed": false,
     "input": [],
     "language": "python",
     "metadata": {},
     "outputs": [
      {
       "metadata": {},
       "output_type": "pyout",
       "prompt_number": 602,
       "text": [
        "(array([0, 1]), array([0, 1]))"
       ]
      }
     ],
     "prompt_number": 602
    },
    {
     "cell_type": "code",
     "collapsed": false,
     "input": [],
     "language": "python",
     "metadata": {},
     "outputs": [
      {
       "metadata": {},
       "output_type": "pyout",
       "prompt_number": 107,
       "text": [
        "False"
       ]
      }
     ],
     "prompt_number": 107
    },
    {
     "cell_type": "code",
     "collapsed": false,
     "input": [],
     "language": "python",
     "metadata": {},
     "outputs": [],
     "prompt_number": 109
    },
    {
     "cell_type": "code",
     "collapsed": false,
     "input": [],
     "language": "python",
     "metadata": {},
     "outputs": [],
     "prompt_number": 110
    },
    {
     "cell_type": "code",
     "collapsed": false,
     "input": [],
     "language": "python",
     "metadata": {},
     "outputs": [],
     "prompt_number": 111
    },
    {
     "cell_type": "code",
     "collapsed": false,
     "input": [],
     "language": "python",
     "metadata": {},
     "outputs": [
      {
       "metadata": {},
       "output_type": "pyout",
       "prompt_number": 114,
       "text": [
        "4499434264"
       ]
      }
     ],
     "prompt_number": 114
    },
    {
     "cell_type": "code",
     "collapsed": false,
     "input": [],
     "language": "python",
     "metadata": {},
     "outputs": [
      {
       "metadata": {},
       "output_type": "pyout",
       "prompt_number": 115,
       "text": [
        "4499434984"
       ]
      }
     ],
     "prompt_number": 115
    },
    {
     "cell_type": "code",
     "collapsed": false,
     "input": [
      "mic1= ( 0.137,   0.0)\n",
      "mic2= (-0.06,  0.10392)"
     ],
     "language": "python",
     "metadata": {},
     "outputs": [],
     "prompt_number": 116
    },
    {
     "cell_type": "code",
     "collapsed": false,
     "input": [
      "result = []\n",
      "xs = np.linspace(0.01,1,1000)\n",
      "for d in xs:\n",
      "    l1 = (d*np.cos(np.pi/4),d * np.sin(np.pi/4))\n",
      "    l2 = [i+0.5 for i in l1]\n",
      "    result.append((dist(l1,mic1) - dist(l1,mic2)) -  (dist(l2,mic1) - dist(l2,mic2)))\n",
      "plt.plot(xs,result)"
     ],
     "language": "python",
     "metadata": {},
     "outputs": [
      {
       "metadata": {},
       "output_type": "pyout",
       "prompt_number": 135,
       "text": [
        "[<matplotlib.lines.Line2D at 0x10bdc5690>]"
       ]
      },
      {
       "metadata": {},
       "output_type": "display_data",
       "png": "[encoded data removed]",
       "text": [
        "<matplotlib.figure.Figure at 0x10c8462d0>"
       ]
      }
     ],
     "prompt_number": 135
    },
    {
     "cell_type": "code",
     "collapsed": false,
     "input": [
      "def dist(p1,p2):\n",
      "    return np.sqrt((p1[0] - p2[0])**2 + (p1[1]-p2[1])**2)"
     ],
     "language": "python",
     "metadata": {},
     "outputs": [],
     "prompt_number": 130
    },
    {
     "cell_type": "code",
     "collapsed": false,
     "input": [],
     "language": "python",
     "metadata": {},
     "outputs": [
      {
       "metadata": {},
       "output_type": "pyout",
       "prompt_number": 131,
       "text": [
        "[<matplotlib.lines.Line2D at 0x10c708e50>]"
       ]
      },
      {
       "metadata": {},
       "output_type": "display_data",
       "png": "[encoded data removed]",
       "text": [
        "<matplotlib.figure.Figure at 0x10be7d110>"
       ]
      }
     ],
     "prompt_number": 131
    },
    {
     "cell_type": "code",
     "collapsed": false,
     "input": [
      "sut.d(mic1,mic3)"
     ],
     "language": "python",
     "metadata": {},
     "outputs": [
      {
       "metadata": {},
       "output_type": "pyout",
       "prompt_number": 503,
       "text": [
        "0.2299661922979115"
       ]
      }
     ],
     "prompt_number": 503
    },
    {
     "cell_type": "code",
     "collapsed": false,
     "input": [
      "from sympy import Symbol\n",
      "from sympy.solvers import solve, nsolve \n",
      "class hyperSolver():\n",
      "    def __init__(self,m1,m2,m3):\n",
      "        self.m1 = m1\n",
      "        self.m2 = m2\n",
      "        self.m3 = m3\n",
      "        self.target = (Symbol('x'), Symbol('y')) \n",
      "        self.f12 = self.d(self.target,self.m1) - self.d(self.target,self.m2)\n",
      "        self.f13 = self.d(self.target,self.m1) - self.d(self.target,self.m3)\n",
      "        self.f23 = self.d(self.target,self.m2) - self.d(self.target,self.m3)\n",
      "    \n",
      "    def solve(self,a12, a13, a23):\n",
      "        estimate12 = [float(i) for i in nsolve((self.f12 - a12,self.f13 - a13),self.target,(0.5,0.5), tol=1e-8)]\n",
      "        estimate13 = [float(i) for i in nsolve((self.f12 - a12,self.f23 - a23),self.target,(0.5,0.5), tol=1e-8)]\n",
      "        estimate23 = [float(i) for i in nsolve((self.f13 - a13,self.f23 - a23),self.target,(0.5,0.5), tol=1e-8)]\n",
      "        x = sorted(i[0] for i in (estimate12,estimate13,estimate23))[1]\n",
      "        y = sorted(i[1] for i in (estimate12,estimate13,estimate23))[1]\n",
      "        return (x,y), estimate12, estimate13, estimate23\n",
      "        \n",
      "    def d(self,p1,p2):\n",
      "        return sum((x-y) ** 2 for x,y in zip(p1,p2)) ** 0.5"
     ],
     "language": "python",
     "metadata": {},
     "outputs": [],
     "prompt_number": 387
    },
    {
     "cell_type": "code",
     "collapsed": false,
     "input": [
      "mic1 = ( 0.137,   0.0)\n",
      "mic2 = (-0.06,  0.10392)\n",
      "mic3 = (-0.06, -0.11864)\n",
      "sut = hyperSolver(mic1,mic2,mic3)"
     ],
     "language": "python",
     "metadata": {},
     "outputs": [],
     "prompt_number": 388
    },
    {
     "cell_type": "code",
     "collapsed": false,
     "input": [
      "import numpy as np\n",
      "import time\n",
      "dts = []\n",
      "results = []\n",
      "for i in range(100):\n",
      "    loc = np.random.rand(2)\n",
      "    d1 = sut.d(loc,mic1)\n",
      "    d2 = sut.d(loc,mic2)\n",
      "    d3 = sut.d(loc,mic3)\n",
      "    ts = time.time()\n",
      "    (x,y),e1,e2,e3 =  sut.solve(d1 - d2, d1 - d3, d2 - d3)\n",
      "    dts.append(time.time() - ts)\n",
      "    try:\n",
      "        assert np.isclose((x,y),loc,atol=1e-2).all() == True\n",
      "    except:\n",
      "        print \"i:\", i, \"locaiton:\",loc, \"estimates:\",(e1,e2,e3)"
     ],
     "language": "python",
     "metadata": {},
     "outputs": [
      {
       "output_type": "stream",
       "stream": "stdout",
       "text": [
        "i: 3 locaiton: [ 0.83765319  0.37865934] estimates: ([0.46424105352708994, 0.2208569000800218], [0.4642410535269533, 0.22085690007996295], [0.4642410535270836, 0.2208569000800176])\n",
        "i:"
       ]
      },
      {
       "output_type": "stream",
       "stream": "stdout",
       "text": [
        " 5 locaiton: [ 0.46508401  0.20186431] estimates: ([0.50611805777505, 0.21762300333927515], [0.5061180577754277, 0.21762300333941967], [0.5061180577750466, 0.21762300333927312])\n",
        "i:"
       ]
      },
      {
       "output_type": "stream",
       "stream": "stdout",
       "text": [
        " 10 locaiton: [ 0.42398707  0.02968406] estimates: ([0.13014663517995126, 0.009064696212618833], [0.13014663517995126, 0.00906469621261883], [0.13014663517995126, 0.00906469621261883])\n",
        "i:"
       ]
      },
      {
       "output_type": "stream",
       "stream": "stdout",
       "text": [
        " 12 locaiton: [ 0.69358933  0.31139382] estimates: ([0.4803771044230152, 0.22316697612802663], [0.48037710442306936, 0.22316697612804937], [0.48037710442301684, 0.22316697612802774])\n",
        "i:"
       ]
      },
      {
       "output_type": "stream",
       "stream": "stdout",
       "text": [
        " 13 locaiton: [ 0.42564887  0.16936289] estimates: ([0.37962136508016, 0.15338765004422], [0.3920451293220689, 0.15769862165681342], [0.3920451293222474, 0.15769862165687526])\n",
        "i:"
       ]
      },
      {
       "output_type": "stream",
       "stream": "stdout",
       "text": [
        " 15 locaiton: [ 0.61450005  0.08024673] estimates: ([0.13549186903813223, 0.021416163432119033], [0.13549186903813204, 0.021416163432118895], [0.13549186903813218, 0.02141616343211891])\n",
        "i:"
       ]
      },
      {
       "output_type": "stream",
       "stream": "stdout",
       "text": [
        " 23 locaiton: [ 0.69608862  0.28056924] estimates: ([0.33880051204169, 0.1481318977049884], [0.3388166114106385, 0.14813784178090342], [0.3388166114106651, 0.14813784178091313])\n",
        "i:"
       ]
      },
      {
       "output_type": "stream",
       "stream": "stdout",
       "text": [
        " 27 locaiton: [ 0.46907683  0.18390799] estimates: ([0.3573439535218797, 0.14523414429371292], [0.35894465861823865, 0.14578761486524194], [0.35894465861839325, 0.14578761486529512])\n",
        "i:"
       ]
      },
      {
       "output_type": "stream",
       "stream": "stdout",
       "text": [
        " 29 locaiton: [ 0.72484928  0.35035934] estimates: ([0.6787927856712721, 0.3297228617041399], [0.6787927856747819, 0.3297228617057143], [0.6787927856712885, 0.3297228617041499])\n",
        "i:"
       ]
      },
      {
       "output_type": "stream",
       "stream": "stdout",
       "text": [
        " 32 locaiton: [ 0.77049955  0.05333751] estimates: ([0.1266025939573526, 0.008368169977238578], [0.1266025939573528, 0.00836816997723888], [0.1266025939573526, 0.008368169977238868])\n",
        "i:"
       ]
      },
      {
       "output_type": "stream",
       "stream": "stdout",
       "text": [
        " 33 locaiton: [ 0.57106951  0.02324513] estimates: ([0.1267137914519825, 0.003018448250581954], [0.12671379339394329, 0.0030184487831331954], [0.12671379145198258, 0.0030184482505814644])\n",
        "i:"
       ]
      },
      {
       "output_type": "stream",
       "stream": "stdout",
       "text": [
        " 35 locaiton: [ 0.28328206  0.05152116] estimates: ([0.16572825968891672, 0.033649625316080505], [0.16572826118492057, 0.03364962553924865], [0.16572826118491993, 0.03364962553924855])\n",
        "i:"
       ]
      },
      {
       "output_type": "stream",
       "stream": "stdout",
       "text": [
        " 42 locaiton: [ 0.47380654  0.16674345] estimates: ([0.2801302267469636, 0.10661143672382659], [0.28013022674692845, 0.10661143672381479], [0.28013022674696086, 0.1066114367238247])\n",
        "i:"
       ]
      },
      {
       "output_type": "stream",
       "stream": "stdout",
       "text": [
        " 43 locaiton: [ 0.3652732   0.16202638] estimates: ([0.6894976036869985, 0.285421347779659], [0.6894976036869525, 0.2854213477796418], [0.36527319916104567, 0.16202637837929865])\n",
        "i:"
       ]
      },
      {
       "output_type": "stream",
       "stream": "stdout",
       "text": [
        " 46 locaiton: [ 0.86194151  0.04960835] estimates: ([0.12551557855841752, 0.005904935593298993], [0.12551557788208342, 0.005904935604104393], [0.12551557855841755, 0.00590493559329892])\n",
        "i:"
       ]
      },
      {
       "output_type": "stream",
       "stream": "stdout",
       "text": [
        " 50 locaiton: [ 0.99339701  0.16336594] estimates: ([0.13906960084831577, 0.02929190014333158], [0.1390696008483151, 0.029291900143331155], [0.13906960084831557, 0.02929190014333122])\n",
        "i:"
       ]
      },
      {
       "output_type": "stream",
       "stream": "stdout",
       "text": [
        " 55 locaiton: [ 0.39351345  0.0837191 ] estimates: ([0.16842417779963556, 0.04207516981924803], [0.1684241777996362, 0.04207516981924825], [0.1684241777996357, 0.042075169819248165])\n",
        "i:"
       ]
      },
      {
       "output_type": "stream",
       "stream": "stdout",
       "text": [
        " 67 locaiton: [ 0.87438471  0.00460075] estimates: ([0.12534506357245043, -0.004612158265584456], [0.12534506357245037, -0.004612158265585019], [0.1253450635724507, -0.004612158265585016])\n",
        "i:"
       ]
      },
      {
       "output_type": "stream",
       "stream": "stdout",
       "text": [
        " 78 locaiton: [ 0.99855169  0.00611915] estimates: ([0.12491887974589158, -0.004626957713333512], [0.1249188797458916, -0.004626957713333403], [0.12491887974589153, -0.004626957713333404])\n",
        "i:"
       ]
      },
      {
       "output_type": "stream",
       "stream": "stdout",
       "text": [
        " 90 locaiton: [ 0.73833429  0.03664152] estimates: ([0.1258126261418033, 0.004458896071238791], [0.12581262606136676, 0.00445889609903153], [0.12581262614180333, 0.004458896071238591])\n",
        "i:"
       ]
      },
      {
       "output_type": "stream",
       "stream": "stdout",
       "text": [
        " 98 locaiton: [ 0.8720257   0.38292595] estimates: ([0.41298635729492383, 0.19410127028069815], [0.4129863572950709, 0.19410127028076044], [0.4129863572949328, 0.19410127028070429])\n"
       ]
      }
     ],
     "prompt_number": 434
    },
    {
     "cell_type": "code",
     "collapsed": false,
     "input": [
      "tt = [0.41298635729492383, 0.19410127028069815]\n",
      "rr = [0.8720257, 0.38292595]\n",
      "print sut.d(tt,sut.m1) - sut.d(tt,sut.m2), sut.d(tt,sut.m1) - sut.d(tt,sut.m3), sut.d(tt,sut.m2) - sut.d(tt,sut.m3)\n",
      "print sut.d(rr,sut.m1) - sut.d(rr,sut.m2), sut.d(rr,sut.m1) - sut.d(rr,sut.m3), sut.d(rr,sut.m2) - sut.d(rr,sut.m3)"
     ],
     "language": "python",
     "metadata": {},
     "outputs": [
      {
       "output_type": "stream",
       "stream": "stdout",
       "text": [
        "-0.144099327508 -0.229622726586 -0.0855233990782\n",
        "-0.144099328014 -0.229622726557 -0.085523398543\n"
       ]
      }
     ],
     "prompt_number": 505
    },
    {
     "cell_type": "code",
     "collapsed": false,
     "input": [
      "test = (1.4 * np.cos(np.pi/4), 1.4 * np.sin(-np.pi/4))"
     ],
     "language": "python",
     "metadata": {},
     "outputs": [],
     "prompt_number": 475
    },
    {
     "cell_type": "code",
     "collapsed": false,
     "input": [
      "print sut.d(test,sut.m1) - sut.d(test,sut.m2), sut.d(test,sut.m1) - sut.d(test,sut.m3), sut.d(test,sut.m2) - sut.d(test,sut.m3)"
     ],
     "language": "python",
     "metadata": {},
     "outputs": [
      {
       "output_type": "stream",
       "stream": "stdout",
       "text": [
        "-0.209504857119 -0.0576729939505 0.151831863168\n"
       ]
      }
     ],
     "prompt_number": 476
    },
    {
     "cell_type": "code",
     "collapsed": false,
     "input": [
      "test"
     ],
     "language": "python",
     "metadata": {},
     "outputs": [
      {
       "metadata": {},
       "output_type": "pyout",
       "prompt_number": 477,
       "text": [
        "(0.98994949366116658, -0.98994949366116636)"
       ]
      }
     ],
     "prompt_number": 477
    },
    {
     "cell_type": "code",
     "collapsed": false,
     "input": [
      "np.arctan( 1.0 / 0.41298635729492383 * 0.19410127028069815) / np.pi * 180"
     ],
     "language": "python",
     "metadata": {},
     "outputs": [
      {
       "metadata": {},
       "output_type": "pyout",
       "prompt_number": 456,
       "text": [
        "25.173261161243911"
       ]
      }
     ],
     "prompt_number": 456
    },
    {
     "cell_type": "code",
     "collapsed": false,
     "input": [
      "import timeit"
     ],
     "language": "python",
     "metadata": {},
     "outputs": [],
     "prompt_number": 516
    },
    {
     "cell_type": "code",
     "collapsed": false,
     "input": [
      "print \"numpy:\", timeit.timeit('np.sqrt(.384 ** 0.5)','import numpy as np')\n",
      "print \"math:\", timeit.timeit('math.sqrt(.384)','import math')\n",
      "print \"python:\", timeit.timeit('.384**0.5')"
     ],
     "language": "python",
     "metadata": {},
     "outputs": [
      {
       "output_type": "stream",
       "stream": "stdout",
       "text": [
        "numpy: "
       ]
      },
      {
       "output_type": "stream",
       "stream": "stdout",
       "text": [
        "1.62991404533\n",
        "math: "
       ]
      },
      {
       "output_type": "stream",
       "stream": "stdout",
       "text": [
        "0.0986108779907\n",
        "python: 0.0279738903046\n"
       ]
      }
     ],
     "prompt_number": 529
    },
    {
     "cell_type": "code",
     "collapsed": false,
     "input": [
      "32.5 ** 0.5"
     ],
     "language": "python",
     "metadata": {},
     "outputs": [
      {
       "metadata": {},
       "output_type": "pyout",
       "prompt_number": 522,
       "text": [
        "5.70087712549569"
       ]
      }
     ],
     "prompt_number": 522
    },
    {
     "cell_type": "code",
     "collapsed": false,
     "input": [
      "np.sqrt(32.5)"
     ],
     "language": "python",
     "metadata": {},
     "outputs": [
      {
       "metadata": {},
       "output_type": "pyout",
       "prompt_number": 523,
       "text": [
        "5.7008771254956896"
       ]
      }
     ],
     "prompt_number": 523
    },
    {
     "cell_type": "code",
     "collapsed": false,
     "input": [
      "import math"
     ],
     "language": "python",
     "metadata": {},
     "outputs": [],
     "prompt_number": 524
    },
    {
     "cell_type": "code",
     "collapsed": false,
     "input": [
      "a = [0,1,2]\n",
      "b = [3,4,5]"
     ],
     "language": "python",
     "metadata": {},
     "outputs": [],
     "prompt_number": 533
    },
    {
     "cell_type": "code",
     "collapsed": false,
     "input": [
      "for i in range(3):\n",
      "    for j in range(i+1,3):\n",
      "        print i,j"
     ],
     "language": "python",
     "metadata": {},
     "outputs": [
      {
       "output_type": "stream",
       "stream": "stdout",
       "text": [
        "0 1\n",
        "0 2\n",
        "1 2\n"
       ]
      }
     ],
     "prompt_number": 543
    },
    {
     "cell_type": "code",
     "collapsed": false,
     "input": [],
     "language": "python",
     "metadata": {},
     "outputs": []
    }
   ],
   "metadata": {}
  }
 ]
}