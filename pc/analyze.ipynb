{
 "metadata": {
  "name": "",
  "signature": "sha256:68a5d09e27abbe89f84597cc93c052fbcae944114aa3836cfaa3056fc8c4385c"
 },
 "nbformat": 3,
 "nbformat_minor": 0,
 "worksheets": [
  {
   "cells": [
    {
     "cell_type": "code",
     "collapsed": false,
     "input": [
      "import numpy as np\n",
      "import matplotlib.pyplot as plt\n",
      "%matplotlib inline\n",
      "from scipy.fftpack import rfft, irfft, fftfreq\n",
      "import os.path, time\n",
      "import sys"
     ],
     "language": "python",
     "metadata": {},
     "outputs": []
    },
    {
     "cell_type": "code",
     "collapsed": false,
     "input": [
      "#constants\n",
      "\n",
      "FILENAME = \"output_raw.npy\"\n",
      "\n",
      "SPEED_SOUND = 340\n",
      "SAMPLING_RATE = 1e5\n",
      "DISTANCE_SPEAKER = .12"
     ],
     "language": "python",
     "metadata": {},
     "outputs": []
    },
    {
     "cell_type": "code",
     "collapsed": false,
     "input": [
      "def xcorr(sig1, sig2):\n",
      "    output = np.correlate(sig1,sig2,'full')\n",
      "    return np.argmax(output) - (len(sig2) - 1)\n",
      "\n",
      "def plot_fft(signal,fs):\n",
      "    plt.figure()\n",
      "    W = fftfreq(signal.size, 1.0 / fs)\n",
      "    f_signal = rfft(signal)\n",
      "    bolla = (W >= 0) & (W < 10e3)\n",
      "    plt.plot(W[bolla],f_signal[bolla])\n",
      "    plt.show()\n",
      "\n",
      "def bandpass_filtering(signal,fs,f_low,f_heigh):\n",
      "    W = fftfreq(signal.size, 1.0 / fs)\n",
      "    f_signal = rfft(signal)\n",
      "    bolla = (abs(W) < f_low) | (abs(W) > f_heigh)\n",
      "    f_signal[bolla] = 0.0\n",
      "    return irfft(f_signal)\n",
      "\n",
      "def doWork():\n",
      "    waveform = np.load(FILENAME)\n",
      "    ch1 = waveform[0]\n",
      "    ch2 = waveform[1]\n",
      "    xcorrLag = xcorr(ch1, ch2)\n",
      "    print \"lag:%d\" % (xcorrLag,)\n",
      "    ch1 -= np.mean(ch1)\n",
      "    ch2 -= np.mean(ch2)\n",
      "    plot_fft(ch1,SAMPLING_RATE)\n",
      "    plot_fft(ch2,SAMPLING_RATE)\n",
      "    ch1_f = bandpass_filtering(ch1,SAMPLING_RATE,0.2e3,50e3)\n",
      "    ch2_f = bandpass_filtering(ch2,SAMPLING_RATE,0.2e3,50e3)\n",
      "    xcorrLag = xcorr(ch1_f, ch2_f)\n",
      "    print \"lag:%d\" % (xcorrLag,)\n",
      "    plot_fft(ch1_f,SAMPLING_RATE)\n",
      "    plot_fft(ch2_f,SAMPLING_RATE)\n",
      "\n",
      "def remove_outputs(nb):\n",
      "    \"\"\"remove the outputs from a notebook\"\"\"\n",
      "    for ws in nb.worksheets:\n",
      "        for cell in ws.cells:\n",
      "            if cell.cell_type == 'code':\n",
      "                cell.outputs = []"
     ],
     "language": "python",
     "metadata": {},
     "outputs": []
    },
    {
     "cell_type": "code",
     "collapsed": false,
     "input": [
      "lastModified = 0\n",
      "\n",
      "while 1:\n",
      "    tmp = os.path.getmtime(FILENAME)\n",
      "    if tmp > lastModified:\n",
      "        print \"%d -> %d\" % (lastModified, tmp)\n",
      "        doWork()\n",
      "        lastModified = tmp\n",
      "        sys.stdout.flush()\n",
      "    time.sleep(1.0)\n"
     ],
     "language": "python",
     "metadata": {},
     "outputs": []
    },
    {
     "cell_type": "code",
     "collapsed": false,
     "input": [
      "time   = np.linspace(0,10,2000)\n",
      "signal = np.cos(20*np.pi*time) + np.cos(40*np.pi*time)\n",
      "\n",
      "sss = bandpass_filtering(signal,200,1,30)\n",
      "plot_fft(sss,200)"
     ],
     "language": "python",
     "metadata": {},
     "outputs": []
    }
   ],
   "metadata": {}
  }
 ]
}